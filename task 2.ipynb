{
 "cells": [
  {
   "cell_type": "code",
   "execution_count": null,
   "id": "f776a840-15e3-4908-bf09-2f933d809389",
   "metadata": {},
   "outputs": [],
   "source": [
    "temprature = float(input(\"Enter the Current Temperature in Celsius:\")\n",
    "temperature = 40\n",
    "if temperature >= 30 :\n",
    "    print(\"It's a hot day. Stay hydrated!\")\n",
    "    \n",
    "elif 20 <= temp <= 29:\n",
    "    print(\"It's a warm day. Enjoy the weather!\")\n",
    "elif 10 <= temp <= 19:\n",
    "    print(\"It's a cool day. Wear a jacket!\")\n",
    "else:\n",
    "    print(\"It's a cold day. Stay warm!\")"
   ]
  }
 ],
 "metadata": {
  "kernelspec": {
   "display_name": "Python 3 (ipykernel)",
   "language": "python",
   "name": "python3"
  },
  "language_info": {
   "codemirror_mode": {
    "name": "ipython",
    "version": 3
   },
   "file_extension": ".py",
   "mimetype": "text/x-python",
   "name": "python",
   "nbconvert_exporter": "python",
   "pygments_lexer": "ipython3",
   "version": "3.12.7"
  }
 },
 "nbformat": 4,
 "nbformat_minor": 5
}
