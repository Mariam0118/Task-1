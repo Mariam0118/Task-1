{
 "cells": [
  {
   "cell_type": "code",
   "execution_count": null,
   "id": "f921a141-f114-43cd-97cb-4ef45f868d90",
   "metadata": {},
   "outputs": [],
   "source": [
    "#Prime Number Checker\n",
    "def is_prime (n) :\n",
    "    \"Check if a number is a prime number.\"\n",
    "    if n <= 1:\n",
    "        return False\n",
    "    if n == 2:\n",
    "        return True\n",
    "    if n % 2 == 0:\n",
    "        return False\n",
    "    for i in range (3, int(n ** 0.5) + 1 , 2):\n",
    "        if n % i == 0:\n",
    "            return False\n",
    "    return True"
   ]
  },
  {
   "cell_type": "code",
   "execution_count": null,
   "id": "306b56c8-49d0-476f-8b08-7763b6b0d2d9",
   "metadata": {},
   "outputs": [],
   "source": [
    "#Custom Calculator \n",
    "def calculator (a , b , operation ):\n",
    "    \"\"\"Performs basic arithmetic operations.\"\"\"\n",
    "    if operation == \"add\":\n",
    "        return a + b\n",
    "    elif operation == \"subtract\":\n",
    "        return a - b\n",
    "    elif operation == \"multiply\":\n",
    "        return a * b\n",
    "    elif operation == \"divide\":\n",
    "        if b == 0:\n",
    "            return \"Error: Division by zero\"\n",
    "        return a / b\n",
    "    else:\n",
    "        return \"Error: Invalid operation\""
   ]
  }
 ],
 "metadata": {
  "kernelspec": {
   "display_name": "Python 3 (ipykernel)",
   "language": "python",
   "name": "python3"
  },
  "language_info": {
   "codemirror_mode": {
    "name": "ipython",
    "version": 3
   },
   "file_extension": ".py",
   "mimetype": "text/x-python",
   "name": "python",
   "nbconvert_exporter": "python",
   "pygments_lexer": "ipython3",
   "version": "3.12.7"
  }
 },
 "nbformat": 4,
 "nbformat_minor": 5
}
