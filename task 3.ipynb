{
 "cells": [
  {
   "cell_type": "code",
   "execution_count": null,
   "id": "71c2e6e4-2982-4a03-a04a-c8e661519741",
   "metadata": {},
   "outputs": [],
   "source": [
    "def contact_book():\n",
    "    contacts = {\n",
    "        \"mohamed\": \"012467097\",\n",
    "        \"ahmed\": \"010986532\",\n",
    "        \"atef\": \"0156799900\"\n",
    "    }\n",
    "    print(\"Contact Names:\")\n",
    "    for name in contacts:\n",
    "        print(\"\", name)\n",
    "\n",
    "    # Step 3: Allow user to search for a contact\n",
    "    search_name = input(\"\\nEnter the name to search: \").strip()\n",
    "\n",
    "    # Step 4: Lookup and print the phone number\n",
    "    if search_name in contacts:\n",
    "        print(f\"{search_name}'s phone number is: {contacts[search_name]}\")\n",
    "    else:\n",
    "        print(f\"{search_name} is not in the contact book.\")\n"
   ]
  }
 ],
 "metadata": {
  "kernelspec": {
   "display_name": "Python 3 (ipykernel)",
   "language": "python",
   "name": "python3"
  },
  "language_info": {
   "codemirror_mode": {
    "name": "ipython",
    "version": 3
   },
   "file_extension": ".py",
   "mimetype": "text/x-python",
   "name": "python",
   "nbconvert_exporter": "python",
   "pygments_lexer": "ipython3",
   "version": "3.12.7"
  }
 },
 "nbformat": 4,
 "nbformat_minor": 5
}
